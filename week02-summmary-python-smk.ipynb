{
 "cells": [
  {
   "cell_type": "code",
   "execution_count": 1,
   "id": "e78a6d88",
   "metadata": {},
   "outputs": [],
   "source": [
    "import sys"
   ]
  },
  {
   "cell_type": "code",
   "execution_count": 2,
   "id": "3fe79b2e",
   "metadata": {},
   "outputs": [
    {
     "data": {
      "text/plain": [
       "'3.9.13 (main, Aug 25 2022, 23:51:50) [MSC v.1916 64 bit (AMD64)]'"
      ]
     },
     "execution_count": 2,
     "metadata": {},
     "output_type": "execute_result"
    }
   ],
   "source": [
    "sys.version"
   ]
  },
  {
   "cell_type": "code",
   "execution_count": 3,
   "id": "a7d433a6",
   "metadata": {},
   "outputs": [
    {
     "data": {
      "text/plain": [
       "str"
      ]
     },
     "execution_count": 3,
     "metadata": {},
     "output_type": "execute_result"
    }
   ],
   "source": [
    "type('hello')"
   ]
  },
  {
   "cell_type": "code",
   "execution_count": 4,
   "id": "af850cca",
   "metadata": {},
   "outputs": [
    {
     "data": {
      "text/plain": [
       "float"
      ]
     },
     "execution_count": 4,
     "metadata": {},
     "output_type": "execute_result"
    }
   ],
   "source": [
    "type(3.6)"
   ]
  },
  {
   "cell_type": "code",
   "execution_count": 5,
   "id": "82766596",
   "metadata": {},
   "outputs": [
    {
     "name": "stdout",
     "output_type": "stream",
     "text": [
      "70\n"
     ]
    }
   ],
   "source": [
    "print(10*7)"
   ]
  },
  {
   "cell_type": "code",
   "execution_count": 6,
   "id": "8e6cf634",
   "metadata": {},
   "outputs": [
    {
     "name": "stdout",
     "output_type": "stream",
     "text": [
      "Hi, everyone\n"
     ]
    }
   ],
   "source": [
    "print('Hi, everyone')"
   ]
  },
  {
   "cell_type": "code",
   "execution_count": 7,
   "id": "309eba1d",
   "metadata": {},
   "outputs": [
    {
     "name": "stdout",
     "output_type": "stream",
     "text": [
      "2024\n"
     ]
    }
   ],
   "source": [
    "a = 2024\n",
    "print(a)"
   ]
  },
  {
   "cell_type": "code",
   "execution_count": 8,
   "id": "729db6be",
   "metadata": {},
   "outputs": [
    {
     "name": "stdout",
     "output_type": "stream",
     "text": [
      "여러분 안녕하세요!\n"
     ]
    }
   ],
   "source": [
    "b = '여러분'\n",
    "print(b + ' 안녕하세요!')"
   ]
  },
  {
   "cell_type": "code",
   "execution_count": 9,
   "id": "9d51812c",
   "metadata": {},
   "outputs": [
    {
     "name": "stdout",
     "output_type": "stream",
     "text": [
      "2024년에도 새해 복 많이 받으세요!\n"
     ]
    }
   ],
   "source": [
    "c = '새해'\n",
    "print(str(a) + '년에도 ' + c + ' 복 많이 받으세요!')"
   ]
  },
  {
   "cell_type": "code",
   "execution_count": 10,
   "id": "6efe48a5",
   "metadata": {},
   "outputs": [
    {
     "name": "stdout",
     "output_type": "stream",
     "text": [
      "이름 입력 >>김민수\n"
     ]
    },
    {
     "data": {
      "text/plain": [
       "'김민수'"
      ]
     },
     "execution_count": 10,
     "metadata": {},
     "output_type": "execute_result"
    }
   ],
   "source": [
    "name = input('이름 입력 >>')\n",
    "name"
   ]
  },
  {
   "cell_type": "code",
   "execution_count": 11,
   "id": "b558af44",
   "metadata": {},
   "outputs": [
    {
     "name": "stdout",
     "output_type": "stream",
     "text": [
      "이름 입력: 김민수\n",
      "출생 연도 입력: 2004\n",
      "안녕하세요!    김민수님!   19세이시군요!\n"
     ]
    }
   ],
   "source": [
    "name = input('이름 입력: ')\n",
    "birth = input('출생 연도 입력: ')\n",
    "age = 2023 - int(birth)\n",
    "print('안녕하세요!    ' + name + '님!   ' + str(age) + '세이시군요!')"
   ]
  },
  {
   "cell_type": "code",
   "execution_count": 12,
   "id": "1adbf862",
   "metadata": {},
   "outputs": [
    {
     "data": {
      "text/plain": [
       "3"
      ]
     },
     "execution_count": 12,
     "metadata": {},
     "output_type": "execute_result"
    }
   ],
   "source": [
    "abs(-3)"
   ]
  },
  {
   "cell_type": "code",
   "execution_count": 13,
   "id": "e0b2cd7f",
   "metadata": {},
   "outputs": [
    {
     "data": {
      "text/plain": [
       "True"
      ]
     },
     "execution_count": 13,
     "metadata": {},
     "output_type": "execute_result"
    }
   ],
   "source": [
    "bool('py')"
   ]
  },
  {
   "cell_type": "code",
   "execution_count": 14,
   "id": "ea310d98",
   "metadata": {},
   "outputs": [
    {
     "name": "stdout",
     "output_type": "stream",
     "text": [
      "0\n",
      "2\n",
      "4\n",
      "6\n",
      "8\n"
     ]
    }
   ],
   "source": [
    "for i in range(5):\n",
    "    print(i * 2)"
   ]
  },
  {
   "cell_type": "code",
   "execution_count": 15,
   "id": "ae67a111",
   "metadata": {},
   "outputs": [
    {
     "name": "stdout",
     "output_type": "stream",
     "text": [
      "1 2 3 4 5 6 7 8 9 10 "
     ]
    }
   ],
   "source": [
    "for i in range(1, 11):\n",
    "    print(i, end=' ')"
   ]
  },
  {
   "cell_type": "code",
   "execution_count": 16,
   "id": "f5ee63cc",
   "metadata": {},
   "outputs": [
    {
     "name": "stdout",
     "output_type": "stream",
     "text": [
      "1\n",
      "4\n",
      "7\n",
      "10\n"
     ]
    }
   ],
   "source": [
    "for i in range(1, 11, 3):\n",
    "    print(i)"
   ]
  },
  {
   "cell_type": "code",
   "execution_count": 17,
   "id": "f93b51a0",
   "metadata": {},
   "outputs": [
    {
     "name": "stdout",
     "output_type": "stream",
     "text": [
      "10\n",
      "20\n",
      "30\n"
     ]
    }
   ],
   "source": [
    "for i in [10, 20, 30]:\n",
    "    print(i)"
   ]
  },
  {
   "cell_type": "code",
   "execution_count": 18,
   "id": "b5489601",
   "metadata": {},
   "outputs": [
    {
     "name": "stdout",
     "output_type": "stream",
     "text": [
      "10\n",
      "20\n",
      "30\n"
     ]
    }
   ],
   "source": [
    "for i in {10:'십', 20:'이십', 30:'삼십'}:\n",
    "    print(i)"
   ]
  },
  {
   "cell_type": "code",
   "execution_count": 20,
   "id": "19101572",
   "metadata": {},
   "outputs": [
    {
     "ename": "NameError",
     "evalue": "name 'data' is not defined",
     "output_type": "error",
     "traceback": [
      "\u001b[1;31m---------------------------------------------------------------------------\u001b[0m",
      "\u001b[1;31mNameError\u001b[0m                                 Traceback (most recent call last)",
      "\u001b[1;32m~\\AppData\\Local\\Temp\\ipykernel_21188\\159350165.py\u001b[0m in \u001b[0;36m<module>\u001b[1;34m\u001b[0m\n\u001b[1;32m----> 1\u001b[1;33m \u001b[0mdata\u001b[0m\u001b[1;33m[\u001b[0m\u001b[1;36m10\u001b[0m\u001b[1;33m]\u001b[0m\u001b[1;33m\u001b[0m\u001b[1;33m\u001b[0m\u001b[0m\n\u001b[0m",
      "\u001b[1;31mNameError\u001b[0m: name 'data' is not defined"
     ]
    }
   ],
   "source": [
    "data[10]"
   ]
  },
  {
   "cell_type": "code",
   "execution_count": 21,
   "id": "2447b9ec",
   "metadata": {},
   "outputs": [
    {
     "name": "stdout",
     "output_type": "stream",
     "text": [
      "2\n"
     ]
    }
   ],
   "source": [
    "import random\n",
    "\n",
    "dice = random.randint(1, 6)\n",
    "print(dice)"
   ]
  },
  {
   "cell_type": "code",
   "execution_count": 22,
   "id": "68d3f70b",
   "metadata": {},
   "outputs": [
    {
     "name": "stdout",
     "output_type": "stream",
     "text": [
      "1.4142135623730951\n",
      "2.0\n"
     ]
    }
   ],
   "source": [
    "import math\n",
    "\n",
    "print(math.sqrt(2))\n",
    "print(math.sqrt(4))"
   ]
  },
  {
   "cell_type": "code",
   "execution_count": 23,
   "id": "3485cce5",
   "metadata": {},
   "outputs": [
    {
     "name": "stdout",
     "output_type": "stream",
     "text": [
      "0\n",
      "1\n",
      "2\n",
      "3\n",
      "4\n",
      "5\n",
      "6\n",
      "7\n",
      "8\n",
      "9\n"
     ]
    }
   ],
   "source": [
    "for num in range(10):\n",
    "    print(num)"
   ]
  },
  {
   "cell_type": "code",
   "execution_count": 24,
   "id": "7843f8d7",
   "metadata": {},
   "outputs": [
    {
     "name": "stdout",
     "output_type": "stream",
     "text": [
      "80\n",
      "70\n",
      "90\n",
      "100\n"
     ]
    }
   ],
   "source": [
    "test_score = [ 80, 70, 90, 100]\n",
    "for score in test_score:\n",
    "    print(score)"
   ]
  },
  {
   "cell_type": "code",
   "execution_count": 25,
   "id": "94baa0b2",
   "metadata": {},
   "outputs": [
    {
     "name": "stdout",
     "output_type": "stream",
     "text": [
      "국어\n",
      "영어\n",
      "수학\n",
      "과학\n"
     ]
    }
   ],
   "source": [
    "test_name = ['국어', '영어', '수학', '과학']\n",
    "for name in test_name:\n",
    "    print(name)"
   ]
  },
  {
   "cell_type": "code",
   "execution_count": 26,
   "id": "06098ee6",
   "metadata": {},
   "outputs": [
    {
     "name": "stdout",
     "output_type": "stream",
     "text": [
      "안녕하세요!\n"
     ]
    }
   ],
   "source": [
    "if (10 > 0):\n",
    "    print('안녕하세요!')"
   ]
  },
  {
   "cell_type": "code",
   "execution_count": 27,
   "id": "717a2059",
   "metadata": {},
   "outputs": [
    {
     "name": "stdout",
     "output_type": "stream",
     "text": [
      "패스워드 입력: 1412421\n",
      "로그인 실패\n"
     ]
    }
   ],
   "source": [
    "p = input('패스워드 입력: ')\n",
    "if(int(p) == 12345):\n",
    "    print('로그인 됨')\n",
    "elif(int(p) == 11111):\n",
    "    print('관리자 권한')\n",
    "else:\n",
    "    print('로그인 실패')"
   ]
  },
  {
   "cell_type": "code",
   "execution_count": 31,
   "id": "6f2440fa",
   "metadata": {},
   "outputs": [
    {
     "name": "stdout",
     "output_type": "stream",
     "text": [
      "<class 'types.GenericAlias'>\n"
     ]
    }
   ],
   "source": [
    "a1 = [1,2,3,4,5]\n",
    "print(type(a1))"
   ]
  },
  {
   "cell_type": "code",
   "execution_count": 30,
   "id": "b22d6899",
   "metadata": {},
   "outputs": [
    {
     "name": "stdout",
     "output_type": "stream",
     "text": [
      "<class 'list'>\n"
     ]
    }
   ],
   "source": [
    "a2 = ['월','화','수','목','금','토']\n",
    "print(type(a2))"
   ]
  },
  {
   "cell_type": "code",
   "execution_count": 32,
   "id": "0b4642c8",
   "metadata": {},
   "outputs": [
    {
     "name": "stdout",
     "output_type": "stream",
     "text": [
      "<class 'list'>\n"
     ]
    }
   ],
   "source": [
    "a3 = [1,2,3,4,5,'월','화','수','목','금','토']\n",
    "print(type(a3))"
   ]
  },
  {
   "cell_type": "code",
   "execution_count": 33,
   "id": "388c15fb",
   "metadata": {},
   "outputs": [
    {
     "name": "stdout",
     "output_type": "stream",
     "text": [
      "<class 'list'>\n"
     ]
    }
   ],
   "source": [
    "a2 = ['월','화','수','목','금','토']\n",
    "print(type(a2))"
   ]
  },
  {
   "cell_type": "code",
   "execution_count": 38,
   "id": "f66d0b5b",
   "metadata": {},
   "outputs": [
    {
     "name": "stdout",
     "output_type": "stream",
     "text": [
      "월\n",
      "화\n",
      "수\n",
      "목\n",
      "금\n",
      "토\n"
     ]
    }
   ],
   "source": [
    "a2 = ['월','화','수','목','금','토']\n",
    "print(a2[0])\n",
    "print(a2[1])\n",
    "print(a2[2])\n",
    "print(a2[3])\n",
    "print(a2[4])\n",
    "print(a2[5])"
   ]
  },
  {
   "cell_type": "code",
   "execution_count": 40,
   "id": "331d5974",
   "metadata": {},
   "outputs": [
    {
     "name": "stdout",
     "output_type": "stream",
     "text": [
      "토\n",
      "금\n",
      "목\n",
      "수\n",
      "화\n",
      "월\n"
     ]
    }
   ],
   "source": [
    "a2 = ['월','화','수','목','금','토']\n",
    "print(a2[-1])\n",
    "print(a2[-2])\n",
    "print(a2[-3])\n",
    "print(a2[-4])\n",
    "print(a2[-5])\n",
    "print(a2[-6])"
   ]
  },
  {
   "cell_type": "code",
   "execution_count": 41,
   "id": "f2c1b9eb",
   "metadata": {},
   "outputs": [
    {
     "name": "stdout",
     "output_type": "stream",
     "text": [
      "['월', '화']\n",
      "['화', '수', '목']\n",
      "['화', '수', '목', '금', '토']\n",
      "['월', '화', '수']\n",
      "['월', '화', '수', '목', '금', '토']\n"
     ]
    }
   ],
   "source": [
    "a2 = ['월','화','수','목','금','토']\n",
    "print(a2[0:2])\n",
    "print(a2[1:4])\n",
    "print(a2[1:])\n",
    "print(a2[:3])\n",
    "print(a2[:])"
   ]
  },
  {
   "cell_type": "code",
   "execution_count": 42,
   "id": "4891c5c3",
   "metadata": {},
   "outputs": [
    {
     "name": "stdout",
     "output_type": "stream",
     "text": [
      "[1, 2, 3, 4, 5]\n",
      "5\n",
      "[1, 2, 3, 4, 5, 6]\n",
      "6\n"
     ]
    }
   ],
   "source": [
    "a1 = [1,2,3,4,5]\n",
    "print(a1)\n",
    "print(len(a1))\n",
    "a1.append(6)\n",
    "print(a1)\n",
    "print(len(a1))"
   ]
  },
  {
   "cell_type": "code",
   "execution_count": 43,
   "id": "8f946a6e",
   "metadata": {},
   "outputs": [
    {
     "name": "stdout",
     "output_type": "stream",
     "text": [
      "['월', '화', '수', '목', '금', '토']\n",
      "6\n",
      "['월', '화', '수', '목', '금', '토', '일']\n",
      "7\n"
     ]
    }
   ],
   "source": [
    "a2 = ['월','화','수','목','금','토']\n",
    "print(a2)\n",
    "print(len(a2))\n",
    "a2.append('일')\n",
    "print(a2)\n",
    "print(len(a2))"
   ]
  },
  {
   "cell_type": "code",
   "execution_count": null,
   "id": "707ceb60",
   "metadata": {},
   "outputs": [],
   "source": []
  }
 ],
 "metadata": {
  "kernelspec": {
   "display_name": "Python 3 (ipykernel)",
   "language": "python",
   "name": "python3"
  },
  "language_info": {
   "codemirror_mode": {
    "name": "ipython",
    "version": 3
   },
   "file_extension": ".py",
   "mimetype": "text/x-python",
   "name": "python",
   "nbconvert_exporter": "python",
   "pygments_lexer": "ipython3",
   "version": "3.9.13"
  }
 },
 "nbformat": 4,
 "nbformat_minor": 5
}
