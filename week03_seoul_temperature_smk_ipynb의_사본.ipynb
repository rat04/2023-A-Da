{
  "cells": [
    {
      "cell_type": "markdown",
      "metadata": {
        "id": "view-in-github",
        "colab_type": "text"
      },
      "source": [
        "<a href=\"https://colab.research.google.com/github/rat04/2023-A-Da/blob/main/week03_seoul_temperature_smk_ipynb%EC%9D%98_%EC%82%AC%EB%B3%B8.ipynb\" target=\"_parent\"><img src=\"https://colab.research.google.com/assets/colab-badge.svg\" alt=\"Open In Colab\"/></a>"
      ]
    },
    {
      "cell_type": "markdown",
      "id": "7b2d2f9c",
      "metadata": {
        "id": "7b2d2f9c"
      },
      "source": [
        "# 서울기온분석"
      ]
    },
    {
      "cell_type": "markdown",
      "id": "d49ab837",
      "metadata": {
        "id": "d49ab837"
      },
      "source": [
        "## 파이썬 설치 점검"
      ]
    },
    {
      "cell_type": "code",
      "execution_count": null,
      "id": "35174d97",
      "metadata": {
        "id": "35174d97"
      },
      "outputs": [],
      "source": [
        "import site"
      ]
    },
    {
      "cell_type": "code",
      "execution_count": null,
      "id": "942e2ddb",
      "metadata": {
        "id": "942e2ddb",
        "outputId": "e78a21ff-b2d1-498c-af4c-acdf578247da",
        "colab": {
          "base_uri": "https://localhost:8080/"
        }
      },
      "outputs": [
        {
          "output_type": "execute_result",
          "data": {
            "text/plain": [
              "['/usr/local/lib/python3.10/dist-packages',\n",
              " '/usr/lib/python3/dist-packages',\n",
              " '/usr/lib/python3.10/dist-packages']"
            ]
          },
          "metadata": {},
          "execution_count": 3
        }
      ],
      "source": [
        "site.getsitepackages()"
      ]
    },
    {
      "cell_type": "markdown",
      "id": "ef82b172",
      "metadata": {
        "id": "ef82b172"
      },
      "source": [
        "## CSV 파일 읽기"
      ]
    },
    {
      "cell_type": "code",
      "execution_count": null,
      "id": "ed6638f7",
      "metadata": {
        "id": "ed6638f7",
        "outputId": "411a00fa-8307-4694-f042-08e0a0cb1346",
        "colab": {
          "base_uri": "https://localhost:8080/",
          "height": 258
        }
      },
      "outputs": [
        {
          "output_type": "error",
          "ename": "FileNotFoundError",
          "evalue": "ignored",
          "traceback": [
            "\u001b[0;31m---------------------------------------------------------------------------\u001b[0m",
            "\u001b[0;31mFileNotFoundError\u001b[0m                         Traceback (most recent call last)",
            "\u001b[0;32m<ipython-input-5-db6a1ae1b6b8>\u001b[0m in \u001b[0;36m<cell line: 2>\u001b[0;34m()\u001b[0m\n\u001b[1;32m      1\u001b[0m \u001b[0;32mimport\u001b[0m \u001b[0mcsv\u001b[0m\u001b[0;34m\u001b[0m\u001b[0;34m\u001b[0m\u001b[0m\n\u001b[0;32m----> 2\u001b[0;31m \u001b[0mf\u001b[0m \u001b[0;34m=\u001b[0m \u001b[0mopen\u001b[0m\u001b[0;34m(\u001b[0m\u001b[0;34m'seoul.csv'\u001b[0m\u001b[0;34m,\u001b[0m \u001b[0;34m'r'\u001b[0m\u001b[0;34m,\u001b[0m \u001b[0mencoding\u001b[0m\u001b[0;34m=\u001b[0m\u001b[0;34m'cp949'\u001b[0m\u001b[0;34m)\u001b[0m\u001b[0;34m\u001b[0m\u001b[0;34m\u001b[0m\u001b[0m\n\u001b[0m\u001b[1;32m      3\u001b[0m \u001b[0mdata\u001b[0m \u001b[0;34m=\u001b[0m \u001b[0mcsv\u001b[0m\u001b[0;34m.\u001b[0m\u001b[0mreader\u001b[0m\u001b[0;34m(\u001b[0m\u001b[0mf\u001b[0m\u001b[0;34m)\u001b[0m\u001b[0;34m\u001b[0m\u001b[0;34m\u001b[0m\u001b[0m\n\u001b[1;32m      4\u001b[0m \u001b[0;34m\u001b[0m\u001b[0m\n\u001b[1;32m      5\u001b[0m \u001b[0mprint\u001b[0m\u001b[0;34m(\u001b[0m\u001b[0mdata\u001b[0m\u001b[0;34m)\u001b[0m\u001b[0;34m\u001b[0m\u001b[0;34m\u001b[0m\u001b[0m\n",
            "\u001b[0;31mFileNotFoundError\u001b[0m: [Errno 2] No such file or directory: 'seoul.csv'"
          ]
        }
      ],
      "source": [
        "import csv\n",
        "f = open('seoul.csv', 'r', encoding='cp949')\n",
        "data = csv.reader(f)\n",
        "\n",
        "print(data)\n",
        "f.close()"
      ]
    },
    {
      "cell_type": "code",
      "execution_count": null,
      "id": "09cfd8e2",
      "metadata": {
        "id": "09cfd8e2"
      },
      "outputs": [],
      "source": [
        "import csv\n",
        "f = open('seoul.csv', 'r', encoding='cp949')\n",
        "data = csv.reader(f)\n",
        "\n",
        "for row in data:\n",
        "    print(row)\n",
        "\n",
        "f.close()"
      ]
    },
    {
      "cell_type": "code",
      "execution_count": null,
      "id": "e12b37d6",
      "metadata": {
        "id": "e12b37d6"
      },
      "outputs": [],
      "source": [
        "import csv\n",
        "\n",
        "with open('seoul.csv','r', encoding='cp949') as f:\n",
        "    data = csv.reader(f)\n",
        "    for row in data:\n",
        "        print(row)"
      ]
    },
    {
      "cell_type": "code",
      "execution_count": null,
      "id": "98c1eff4",
      "metadata": {
        "id": "98c1eff4"
      },
      "outputs": [],
      "source": [
        "import csv\n",
        "\n",
        "f = open('seoul.csv','r', encoding='cp949')\n",
        "\n",
        "data = csv.reader(f)\n",
        "\n",
        "for row in data:\n",
        "    if '' in row:\n",
        "        print(row)\n",
        "\n",
        "f.close()"
      ]
    },
    {
      "cell_type": "code",
      "execution_count": null,
      "id": "8d1d1532",
      "metadata": {
        "id": "8d1d1532"
      },
      "outputs": [],
      "source": [
        "import csv\n",
        "\n",
        "f = open('seoul.csv', 'r', encoding='cp949')\n",
        "\n",
        "data = csv.reader(f)\n",
        "\n",
        "header = next(data)\n",
        "print(header)\n",
        "\n",
        "f.close()"
      ]
    },
    {
      "cell_type": "code",
      "execution_count": null,
      "id": "78ef30cd",
      "metadata": {
        "id": "78ef30cd"
      },
      "outputs": [],
      "source": [
        "import csv\n",
        "\n",
        "f = open('seoul.csv', 'r', encoding='cp949')\n",
        "data = csv.reader(f)\n",
        "\n",
        "header = next(data)\n",
        "print(header)\n",
        "\n",
        "for row in data:\n",
        "    if row[4] =='':\n",
        "        row[4] = -999\n",
        "    row[4] = float(row[4])\n",
        "    print(row)\n",
        "\n",
        "f.close()"
      ]
    },
    {
      "cell_type": "code",
      "execution_count": null,
      "id": "44b233fc",
      "metadata": {
        "id": "44b233fc"
      },
      "outputs": [],
      "source": [
        "import csv\n",
        "\n",
        "max_temp = -999\n",
        "max_date = ''\n",
        "\n",
        "f = open('seoul.csv')\n",
        "data = csv.reader(f)\n",
        "\n",
        "header = next(data)\n",
        "\n",
        "for row in data:\n",
        "    if row[4] =='':\n",
        "        row[4] = -999\n",
        "\n",
        "    row[4] = float(row[4])\n",
        "\n",
        "    if max_temp < row[4]:\n",
        "        max_temp = row[4]\n",
        "        max_date = row[0].strip()\n",
        "\n",
        "f.close()\n",
        "print(f'서울 최고 기온, 일자: {max_date}, 기온: {max_temp}')"
      ]
    },
    {
      "cell_type": "code",
      "execution_count": null,
      "id": "97d568b1",
      "metadata": {
        "id": "97d568b1"
      },
      "outputs": [],
      "source": []
    }
  ],
  "metadata": {
    "kernelspec": {
      "display_name": "Python 3 (ipykernel)",
      "language": "python",
      "name": "python3"
    },
    "language_info": {
      "codemirror_mode": {
        "name": "ipython",
        "version": 3
      },
      "file_extension": ".py",
      "mimetype": "text/x-python",
      "name": "python",
      "nbconvert_exporter": "python",
      "pygments_lexer": "ipython3",
      "version": "3.9.13"
    },
    "colab": {
      "provenance": [],
      "include_colab_link": true
    }
  },
  "nbformat": 4,
  "nbformat_minor": 5
}